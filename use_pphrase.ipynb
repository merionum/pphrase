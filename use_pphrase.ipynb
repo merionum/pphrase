{
 "cells": [
  {
   "cell_type": "code",
   "execution_count": 1,
   "metadata": {},
   "outputs": [],
   "source": [
    "import pphrase\n",
    "import spacy_udpipe"
   ]
  },
  {
   "cell_type": "code",
   "execution_count": 2,
   "metadata": {},
   "outputs": [],
   "source": [
    "with open('function words.txt', 'r') as f:\n",
    "    function_words = f.read().splitlines() "
   ]
  },
  {
   "cell_type": "code",
   "execution_count": 3,
   "metadata": {},
   "outputs": [],
   "source": [
    "with open('derivative prepositions.txt', 'r') as d:\n",
    "    derivative_prepositions = d.read().splitlines()"
   ]
  },
  {
   "cell_type": "code",
   "execution_count": 4,
   "metadata": {},
   "outputs": [
    {
     "name": "stdout",
     "output_type": "stream",
     "text": [
      "Initializing...\n",
      "Ready!\n"
     ]
    }
   ],
   "source": [
    "ex = pphrase.Extractor(function_words=function_words, derivative_prepositions=derivative_prepositions)"
   ]
  },
  {
   "cell_type": "code",
   "execution_count": 7,
   "metadata": {
    "scrolled": true
   },
   "outputs": [
    {
     "ename": "IndexError",
     "evalue": "[E040] Attempt to access token at 210, max length 210.",
     "output_type": "error",
     "traceback": [
      "\u001b[0;31m---------------------------------------------------------------------------\u001b[0m",
      "\u001b[0;31mIndexError\u001b[0m                                Traceback (most recent call last)",
      "\u001b[0;32m<ipython-input-7-6d9335588deb>\u001b[0m in \u001b[0;36m<module>\u001b[0;34m\u001b[0m\n\u001b[0;32m----> 1\u001b[0;31m \u001b[0ma\u001b[0m \u001b[0;34m=\u001b[0m \u001b[0mex\u001b[0m\u001b[0;34m.\u001b[0m\u001b[0mextract_phrases\u001b[0m\u001b[0;34m(\u001b[0m\u001b[0;34m'Сотрудники посольства США в России, обнаруженные на железнодорожной станции в Северодвинске, находились в официальной поездке, о чем они уведомляли Минобороны России. Об этом сообщает «Интерфакс» со ссылкой на пресс-секретаря американской дипмиссии Ребекку Росс. Дипломаты находились с официальной поездкой и надлежащим образом уведомили о своей поездке министерство обороны, — подчеркнула собеседник агентства.Сообщалось, что обнаруженные в Северодвинске сотрудники посольства США притворялись грибниками. По данным Telegram-канала 112, американские военные дипломаты вызвали подозрение у полицейского на вокзале. Предположительно, они возвращались из поселка Ненокса. По информации РЕН ТВ, речь идет о военно-морском атташе Уитситте Уильяме Кертисе, атташе Арриола Джерри Энтони, а также военном атташе по фамилии Данн. Американцев обнаружили 14 октября в поезде, с которого в итоге сняли. Они не предоставили необходимые документы для пребывания в этом городе.Всех троих подозревают в нарушении правил въезда в Россию или режима пребывания в стране. Согласно КоАП, данное нарушение влечет наложение штрафа в размере до пяти тысяч рублей, а также выдворение за пределы государства.Под Северодвинском, который является режимной территорией, расположен поселок Ненокса, являющийся ближайшим населенным пунктом к полигону Минобороны, где в августе произошел взрыв при испытании жидкостной реактивной двигательной установки. Кроме того, в этом городе дислоцированы части Беломорской военно-морской базы и сосредоточены крупнейшие судостроительные и судоремонтные предприятия России.'\u001b[0m\u001b[0;34m)\u001b[0m\u001b[0;34m\u001b[0m\u001b[0;34m\u001b[0m\u001b[0m\n\u001b[0m",
      "\u001b[0;32m~/Documents/GitHub/prep-phras/pphrase.py\u001b[0m in \u001b[0;36mextract_phrases\u001b[0;34m(self, text)\u001b[0m\n\u001b[1;32m    117\u001b[0m                         \u001b[0;31m# TODO: move to new function (__extract_derivative_from_context)\u001b[0m\u001b[0;34m\u001b[0m\u001b[0;34m\u001b[0m\u001b[0;34m\u001b[0m\u001b[0m\n\u001b[1;32m    118\u001b[0m                         \u001b[0morig_con_idx\u001b[0m \u001b[0;34m=\u001b[0m \u001b[0;34m[\u001b[0m\u001b[0mself\u001b[0m\u001b[0;34m.\u001b[0m\u001b[0mderiv_context\u001b[0m\u001b[0;34m[\u001b[0m\u001b[0;36m0\u001b[0m\u001b[0;34m]\u001b[0m\u001b[0;34m.\u001b[0m\u001b[0mi\u001b[0m\u001b[0;34m,\u001b[0m \u001b[0mself\u001b[0m\u001b[0;34m.\u001b[0m\u001b[0mderiv_context\u001b[0m\u001b[0;34m[\u001b[0m\u001b[0;34m-\u001b[0m\u001b[0;36m1\u001b[0m\u001b[0;34m]\u001b[0m\u001b[0;34m.\u001b[0m\u001b[0mi\u001b[0m\u001b[0;34m]\u001b[0m\u001b[0;34m\u001b[0m\u001b[0;34m\u001b[0m\u001b[0m\n\u001b[0;32m--> 119\u001b[0;31m                         \u001b[0;32mwhile\u001b[0m \u001b[0mself\u001b[0m\u001b[0;34m.\u001b[0m\u001b[0mderiv_context\u001b[0m\u001b[0;34m[\u001b[0m\u001b[0morig_con_idx\u001b[0m\u001b[0;34m[\u001b[0m\u001b[0;36m0\u001b[0m\u001b[0;34m]\u001b[0m\u001b[0;34m]\u001b[0m\u001b[0;34m.\u001b[0m\u001b[0mtext\u001b[0m \u001b[0;34m!=\u001b[0m \u001b[0mself\u001b[0m\u001b[0;34m.\u001b[0m\u001b[0mfound_derivative\u001b[0m\u001b[0;34m[\u001b[0m\u001b[0;36m0\u001b[0m\u001b[0;34m]\u001b[0m\u001b[0;34m:\u001b[0m\u001b[0;34m\u001b[0m\u001b[0;34m\u001b[0m\u001b[0m\n\u001b[0m\u001b[1;32m    120\u001b[0m                             \u001b[0morig_con_idx\u001b[0m\u001b[0;34m[\u001b[0m\u001b[0;36m0\u001b[0m\u001b[0;34m]\u001b[0m \u001b[0;34m+=\u001b[0m \u001b[0;36m1\u001b[0m\u001b[0;34m\u001b[0m\u001b[0;34m\u001b[0m\u001b[0m\n\u001b[1;32m    121\u001b[0m                         \u001b[0mprint\u001b[0m\u001b[0;34m(\u001b[0m\u001b[0;34m)\u001b[0m\u001b[0;34m\u001b[0m\u001b[0;34m\u001b[0m\u001b[0m\n",
      "\u001b[0;32mspan.pyx\u001b[0m in \u001b[0;36mspacy.tokens.span.Span.__getitem__\u001b[0;34m()\u001b[0m\n",
      "\u001b[0;32mdoc.pyx\u001b[0m in \u001b[0;36mspacy.tokens.doc.Doc.__getitem__\u001b[0;34m()\u001b[0m\n",
      "\u001b[0;32mtoken.pxd\u001b[0m in \u001b[0;36mspacy.tokens.token.Token.cinit\u001b[0;34m()\u001b[0m\n",
      "\u001b[0;31mIndexError\u001b[0m: [E040] Attempt to access token at 210, max length 210."
     ]
    }
   ],
   "source": [
    "a = ex.extract_phrases('Сотрудники посольства США в России, обнаруженные на железнодорожной станции в Северодвинске, находились в официальной поездке, о чем они уведомляли Минобороны России. Об этом сообщает «Интерфакс» со ссылкой на пресс-секретаря американской дипмиссии Ребекку Росс. Дипломаты находились с официальной поездкой и надлежащим образом уведомили о своей поездке министерство обороны, — подчеркнула собеседник агентства.Сообщалось, что обнаруженные в Северодвинске сотрудники посольства США притворялись грибниками. По данным Telegram-канала 112, американские военные дипломаты вызвали подозрение у полицейского на вокзале. Предположительно, они возвращались из поселка Ненокса. По информации РЕН ТВ, речь идет о военно-морском атташе Уитситте Уильяме Кертисе, атташе Арриола Джерри Энтони, а также военном атташе по фамилии Данн. Американцев обнаружили 14 октября в поезде, с которого в итоге сняли. Они не предоставили необходимые документы для пребывания в этом городе.Всех троих подозревают в нарушении правил въезда в Россию или режима пребывания в стране. Согласно КоАП, данное нарушение влечет наложение штрафа в размере до пяти тысяч рублей, а также выдворение за пределы государства.Под Северодвинском, который является режимной территорией, расположен поселок Ненокса, являющийся ближайшим населенным пунктом к полигону Минобороны, где в августе произошел взрыв при испытании жидкостной реактивной двигательной установки. Кроме того, в этом городе дислоцированы части Беломорской военно-морской базы и сосредоточены крупнейшие судостроительные и судоремонтные предприятия России.')"
   ]
  },
  {
   "cell_type": "code",
   "execution_count": 6,
   "metadata": {},
   "outputs": [
    {
     "data": {
      "text/plain": [
       "{без: ['прошли без согласования'],\n",
       " 'без согласования с': ['прошли без согласования с лицами']}"
      ]
     },
     "execution_count": 6,
     "metadata": {},
     "output_type": "execute_result"
    }
   ],
   "source": [
    "a"
   ]
  },
  {
   "cell_type": "code",
   "execution_count": null,
   "metadata": {},
   "outputs": [],
   "source": [
    "b = [1,2,3,4,5]"
   ]
  },
  {
   "cell_type": "code",
   "execution_count": null,
   "metadata": {},
   "outputs": [],
   "source": [
    "b[1:3]"
   ]
  },
  {
   "cell_type": "code",
   "execution_count": null,
   "metadata": {},
   "outputs": [],
   "source": [
    "nlp = spacy_udpipe.load_from_path('ru', 'russian-syntagrus-ud-2.4-190531.udpipe')"
   ]
  },
  {
   "cell_type": "code",
   "execution_count": null,
   "metadata": {},
   "outputs": [],
   "source": [
    "doc = nlp(\"мы не перенесли бы такую утрату в неуютной обстановке абсолютного непримирения\")"
   ]
  },
  {
   "cell_type": "code",
   "execution_count": null,
   "metadata": {},
   "outputs": [],
   "source": [
    "doc[8].head"
   ]
  },
  {
   "cell_type": "code",
   "execution_count": null,
   "metadata": {},
   "outputs": [],
   "source": [
    "doc[-1]"
   ]
  },
  {
   "cell_type": "code",
   "execution_count": null,
   "metadata": {},
   "outputs": [],
   "source": [
    "for token in doc:\n",
    "    # Try this with other parts of speech for different subtrees.\n",
    "    if token.pos_ == 'ADP':\n",
    "        print([token.head.head] + [tok.orth_ for tok in token.head.subtree])\n",
    "print()\n",
    "for token in doc:\n",
    "    if token.pos_ == 'ADP':\n",
    "        print([token.head.head, token, token.head])"
   ]
  },
  {
   "cell_type": "code",
   "execution_count": null,
   "metadata": {},
   "outputs": [],
   "source": [
    "found_derivative = list(filter(lambda x: set(x.split()).issubset(doc.text.split()),\n",
    "                                   derivative_prepositions))\n",
    "if found_derivative:\n",
    "    found_derivative = max(found_derivative, key=len)"
   ]
  },
  {
   "cell_type": "code",
   "execution_count": null,
   "metadata": {},
   "outputs": [],
   "source": [
    "a = [doc[0].i, doc[-1].i]"
   ]
  },
  {
   "cell_type": "code",
   "execution_count": null,
   "metadata": {},
   "outputs": [],
   "source": [
    "a"
   ]
  },
  {
   "cell_type": "code",
   "execution_count": null,
   "metadata": {},
   "outputs": [],
   "source": [
    "der = found_derivative.split()"
   ]
  },
  {
   "cell_type": "code",
   "execution_count": null,
   "metadata": {},
   "outputs": [],
   "source": [
    "der"
   ]
  },
  {
   "cell_type": "code",
   "execution_count": null,
   "metadata": {},
   "outputs": [],
   "source": [
    "doc"
   ]
  },
  {
   "cell_type": "code",
   "execution_count": null,
   "metadata": {},
   "outputs": [],
   "source": [
    "while doc[a[0]].text != der[0]:\n",
    "    a[0] += 1\n",
    "while doc[a[1]].text != der[-1]:\n",
    "    a[1] -= 1"
   ]
  },
  {
   "cell_type": "code",
   "execution_count": null,
   "metadata": {},
   "outputs": [],
   "source": [
    "a"
   ]
  },
  {
   "cell_type": "code",
   "execution_count": null,
   "metadata": {},
   "outputs": [],
   "source": [
    "set('под самым носом у'.split()).issubset(doc.text.split())"
   ]
  },
  {
   "cell_type": "code",
   "execution_count": null,
   "metadata": {},
   "outputs": [],
   "source": [
    "set(['под', 'самым', 'носом', 'у']).issubset(doc.text.split())"
   ]
  },
  {
   "cell_type": "code",
   "execution_count": null,
   "metadata": {},
   "outputs": [],
   "source": [
    "doc"
   ]
  },
  {
   "cell_type": "code",
   "execution_count": null,
   "metadata": {},
   "outputs": [],
   "source": [
    "set([\"в\", \"соответствии\", \"с\"]).issubset([\"быть\", \"в\", \"полном\", \"соответствии\", \"с\"])"
   ]
  },
  {
   "cell_type": "code",
   "execution_count": null,
   "metadata": {},
   "outputs": [],
   "source": [
    "for tok in doc:\n",
    "    if tok.pos_ == 'ADP':\n",
    "        print([tok.head.head, tok, tok.head])"
   ]
  },
  {
   "cell_type": "code",
   "execution_count": null,
   "metadata": {},
   "outputs": [],
   "source": [
    "# ['в', 'память', 'о']\n",
    "# \"Панихида в память о царе\""
   ]
  },
  {
   "cell_type": "code",
   "execution_count": null,
   "metadata": {},
   "outputs": [],
   "source": [
    "# Write data to file\n",
    "for r in RESULTS:\n",
    "    resultFyle.write(r + \"\\n\")\n",
    "resultFyle.close()"
   ]
  },
  {
   "cell_type": "code",
   "execution_count": null,
   "metadata": {},
   "outputs": [],
   "source": [
    "function_words = handle_cyrillic_yo()\n",
    "\n",
    "\n",
    "# \n",
    "#     context_window = max([len(p.split()) for p in function_words]) - 1"
   ]
  },
  {
   "cell_type": "code",
   "execution_count": null,
   "metadata": {},
   "outputs": [],
   "source": [
    "for i in function_words:\n",
    "    print(i)"
   ]
  },
  {
   "cell_type": "code",
   "execution_count": null,
   "metadata": {},
   "outputs": [],
   "source": []
  }
 ],
 "metadata": {
  "kernelspec": {
   "display_name": "Python 3",
   "language": "python",
   "name": "python3"
  },
  "language_info": {
   "codemirror_mode": {
    "name": "ipython",
    "version": 3
   },
   "file_extension": ".py",
   "mimetype": "text/x-python",
   "name": "python",
   "nbconvert_exporter": "python",
   "pygments_lexer": "ipython3",
   "version": "3.7.2"
  }
 },
 "nbformat": 4,
 "nbformat_minor": 2
}
