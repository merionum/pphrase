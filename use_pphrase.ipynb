{
 "cells": [
  {
   "cell_type": "code",
   "execution_count": 1,
   "metadata": {},
   "outputs": [],
   "source": [
    "import pphrase\n",
    "import spacy_udpipe"
   ]
  },
  {
   "cell_type": "code",
   "execution_count": 2,
   "metadata": {},
   "outputs": [],
   "source": [
    "with open('function words.txt', 'r') as f:\n",
    "    function_words = f.read().splitlines() "
   ]
  },
  {
   "cell_type": "code",
   "execution_count": 3,
   "metadata": {},
   "outputs": [],
   "source": [
    "with open('derivative prepositions.txt', 'r') as d:\n",
    "    derivative_prepositions = d.read().splitlines()"
   ]
  },
  {
   "cell_type": "code",
   "execution_count": 4,
   "metadata": {
    "scrolled": true
   },
   "outputs": [
    {
     "name": "stdout",
     "output_type": "stream",
     "text": [
      "Initializing...\n",
      "Ready!\n"
     ]
    }
   ],
   "source": [
    "ex = pphrase.Extractor(function_words=function_words, derivative_prepositions=derivative_prepositions)"
   ]
  },
  {
   "cell_type": "code",
   "execution_count": 5,
   "metadata": {},
   "outputs": [],
   "source": [
    "with open('19941111878.txt', 'r') as t:\n",
    "    text = t.read()"
   ]
  },
  {
   "cell_type": "code",
   "execution_count": 6,
   "metadata": {},
   "outputs": [],
   "source": [
    "a = ex.extract_phrases(text)\n",
    "# "
   ]
  },
  {
   "cell_type": "code",
   "execution_count": 7,
   "metadata": {
    "scrolled": false
   },
   "outputs": [
    {
     "data": {
      "text/plain": [
       "{'о': ['принят о внесении', 'внесении о браке', 'кодекс о браке'],\n",
       " 'в': ['дополнений в кодекс',\n",
       "  'внести в кодекс',\n",
       "  'дополнения в статье',\n",
       "  'получение в порядке',\n",
       "  'могут в может',\n",
       "  'может в случае',\n",
       "  'нуждающихся в помощи',\n",
       "  'может в порядке',\n",
       "  'может в статье',\n",
       "  'изложить в редакции',\n",
       "  'заработка в рублях',\n",
       "  'может в валюте',\n",
       "  'может в части',\n",
       "  'изложить в редакции',\n",
       "  'находящихся в учреждениях',\n",
       "  'счет в банке',\n",
       "  'изложить в редакции',\n",
       "  'изложить в редакции',\n",
       "  'нарушает в сумме',\n",
       "  'нарушает в случаях',\n",
       "  'нарушает в валюте',\n",
       "  'нарушает в случаях',\n",
       "  'взыскиваемых в сумме',\n",
       "  'взыскиваемых в долях',\n",
       "  'взыскиваемых в соответствии',\n",
       "  'статьей в сумме',\n",
       "  'определяется в сумме',\n",
       "  'взыскание в сумме',\n",
       "  'сумме в размере',\n",
       "  'установленном в статьями',\n",
       "  'находящихся в банках',\n",
       "  'вложенных в предприятия',\n",
       "  'взыскиваемых в сумме',\n",
       "  'сумме в статьями',\n",
       "  'судом в сумме',\n",
       "  'изложить в редакции',\n",
       "  'работал в период',\n",
       "  'платы в федерации',\n",
       "  'обратиться в суд',\n",
       "  'задолженность в сумме',\n",
       "  'ввести в действие'],\n",
       " 'в течение': ['статье в течение лет',\n",
       "  'статье в течение лет',\n",
       "  'словами в течение лет',\n",
       "  'словами в течение лет',\n",
       "  'родился в течение месяцев'],\n",
       " 'за': ['осуществляющий за ребенком', 'осуществляющий за ребенком'],\n",
       " 'в возрасте': ['в возрасте лет',\n",
       "  'в возрасте лет',\n",
       "  'в возрасте лет',\n",
       "  'в возрасте лет'],\n",
       " 'с': ['имеет с детства',\n",
       "  'инвалидом с детства',\n",
       "  'детей с родителей',\n",
       "  'увеличен с учетом',\n",
       "  'определяется с учетом',\n",
       "  'определяется с одного'],\n",
       " 'в части': ['имеет в части статьи'],\n",
       " 'после': ['дополнить после слова',\n",
       "  'получение после расторжения',\n",
       "  'часть после слов',\n",
       "  'дополнить после слов'],\n",
       " 'на': ['право на получение',\n",
       "  'алиментов на детей',\n",
       "  'алиментов на детей',\n",
       "  'может на детей',\n",
       "  'алименты на детей',\n",
       "  'четверти на детей',\n",
       "  'четверти на детей',\n",
       "  'алиментов на детей',\n",
       "  'зачисляются на учреждения',\n",
       "  'зачисляются на содержание',\n",
       "  'зачисляются на него',\n",
       "  'зачисляются на счет',\n",
       "  'алиментов на детей',\n",
       "  'взыскания на имущество',\n",
       "  'находящихся на счетах',\n",
       "  'может на имущество',\n",
       "  'обращено на которое',\n",
       "  'обращение на средства',\n",
       "  'обращение на счетах',\n",
       "  'платы на момент'],\n",
       " 'от': ['получение от супруга',\n",
       "  'полученных от обращения',\n",
       "  'зачисляются от обращения',\n",
       "  'дополнить от уплаты',\n",
       "  'алименты от уплаты'],\n",
       " 'между': ['соглашением между родителем', 'соглашением между родителем'],\n",
       " 'при': ['может при отсутствии',\n",
       "  'зачисляются при оставлении',\n",
       "  'определяются при удержании',\n",
       "  'подлежащие при удержании',\n",
       "  'нарушает при отсутствии',\n",
       "  'остаются при каждом',\n",
       "  'плательщика при уплате',\n",
       "  'алиментов при недостаточности',\n",
       "  'обращается при недостаточности'],\n",
       " 'в размере': ['в размере ребенка', 'в размере ребенка'],\n",
       " 'по': ['отдельно по ребенку',\n",
       "  'задолженности по платежам',\n",
       "  'может по закону',\n",
       "  'взыскиваемых по решению'],\n",
       " 'у': ['отсутствии у него'],\n",
       " 'в отношении': ['в долевом отношении заработку'],\n",
       " 'в отношении к': ['в долевом отношении к заработку'],\n",
       " 'из': ['одной из сторон',\n",
       "  'каждом из родителей',\n",
       "  'одного из родителей',\n",
       "  'производятся из заработка',\n",
       "  'удерживаются из средств',\n",
       "  'одной из сторон'],\n",
       " 'со': ['соответствии со статьей', 'закон со дня'],\n",
       " 'в пользу': ['определяется в пользу сумме'],\n",
       " 'в соответствии с': ['определяется в соответствии с частью'],\n",
       " 'в соответствии со': ['установленном в соответствии со статьями',\n",
       "  'сумме в соответствии со статьями'],\n",
       " 'исходя из': ['исходя из платы', 'исходя из положения']}"
      ]
     },
     "execution_count": 7,
     "metadata": {},
     "output_type": "execute_result"
    }
   ],
   "source": [
    "a"
   ]
  },
  {
   "cell_type": "code",
   "execution_count": 8,
   "metadata": {},
   "outputs": [],
   "source": [
    "nlp = spacy_udpipe.load_from_path('ru', 'russian-syntagrus-ud-2.4-190531.udpipe')"
   ]
  },
  {
   "cell_type": "code",
   "execution_count": 9,
   "metadata": {},
   "outputs": [],
   "source": [
    "a = nlp('а также в других случаях, когда взыскание алиментов в долевом отношении к заработку (доходу) родителя невозможно, затруднительно или существенно нарушает интересы одной из сторон, суд вправе определить размер алиментов, взыскиваемых ежемесячно в твердой денежной сумме или одновременно в долях (в соответствии со статьей 68 настоящего Кодекса) и в твердой денежной сумме.')"
   ]
  },
  {
   "cell_type": "code",
   "execution_count": null,
   "metadata": {},
   "outputs": [],
   "source": [
    "a[47:49]"
   ]
  },
  {
   "cell_type": "code",
   "execution_count": null,
   "metadata": {},
   "outputs": [],
   "source": [
    "a[48].head.head in a[47:49]"
   ]
  },
  {
   "cell_type": "code",
   "execution_count": null,
   "metadata": {},
   "outputs": [],
   "source": [
    "print([t.orth_ for t in a[8].head.subtree])"
   ]
  },
  {
   "cell_type": "code",
   "execution_count": null,
   "metadata": {},
   "outputs": [],
   "source": [
    "a[0].i"
   ]
  },
  {
   "cell_type": "code",
   "execution_count": null,
   "metadata": {},
   "outputs": [],
   "source": [
    "set(['под', 'самым', 'носом', 'у']).issubset(doc.text.split())"
   ]
  },
  {
   "cell_type": "code",
   "execution_count": null,
   "metadata": {},
   "outputs": [],
   "source": [
    "doc"
   ]
  },
  {
   "cell_type": "code",
   "execution_count": null,
   "metadata": {},
   "outputs": [],
   "source": [
    "set([\"в\", \"соответствии\", \"с\"]).issubset([\"быть\", \"в\", \"полном\", \"соответствии\", \"с\"])"
   ]
  },
  {
   "cell_type": "code",
   "execution_count": null,
   "metadata": {},
   "outputs": [],
   "source": [
    "for tok in doc:\n",
    "    if tok.pos_ == 'ADP':\n",
    "        print([tok.head.head, tok, tok.head])"
   ]
  },
  {
   "cell_type": "code",
   "execution_count": null,
   "metadata": {},
   "outputs": [],
   "source": [
    "# ['в', 'память', 'о']\n",
    "# \"Панихида в память о царе\""
   ]
  },
  {
   "cell_type": "code",
   "execution_count": null,
   "metadata": {},
   "outputs": [],
   "source": [
    "# Write data to file\n",
    "for r in RESULTS:\n",
    "    resultFyle.write(r + \"\\n\")\n",
    "resultFyle.close()"
   ]
  },
  {
   "cell_type": "code",
   "execution_count": null,
   "metadata": {},
   "outputs": [],
   "source": [
    "function_words = handle_cyrillic_yo()\n",
    "\n",
    "\n",
    "# \n",
    "#     context_window = max([len(p.split()) for p in function_words]) - 1"
   ]
  },
  {
   "cell_type": "code",
   "execution_count": null,
   "metadata": {},
   "outputs": [],
   "source": [
    "for i in function_words:\n",
    "    print(i)"
   ]
  },
  {
   "cell_type": "code",
   "execution_count": null,
   "metadata": {},
   "outputs": [],
   "source": [
    "            print([t.orth_ for t in tok.head.subtree])"
   ]
  }
 ],
 "metadata": {
  "kernelspec": {
   "display_name": "Python 3",
   "language": "python",
   "name": "python3"
  },
  "language_info": {
   "codemirror_mode": {
    "name": "ipython",
    "version": 3
   },
   "file_extension": ".py",
   "mimetype": "text/x-python",
   "name": "python",
   "nbconvert_exporter": "python",
   "pygments_lexer": "ipython3",
   "version": "3.7.2"
  }
 },
 "nbformat": 4,
 "nbformat_minor": 2
}
